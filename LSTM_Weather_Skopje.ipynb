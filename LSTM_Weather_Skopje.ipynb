{
  "nbformat": 4,
  "nbformat_minor": 0,
  "metadata": {
    "colab": {
      "provenance": []
    },
    "kernelspec": {
      "name": "python3",
      "display_name": "Python 3"
    },
    "language_info": {
      "name": "python"
    }
  },
  "cells": [
    {
      "cell_type": "markdown",
      "source": [
        "LSTM Модел за предвидување на температурата за град Скопје и инсталација на Arduino со помош на ELL Microsoft"
      ],
      "metadata": {
        "id": "QOV0oj71rNPP"
      }
    },
    {
      "cell_type": "code",
      "source": [
        "import numpy as np\n",
        "import pandas as pd\n",
        "from sklearn.preprocessing import MinMaxScaler\n",
        "from tensorflow.keras.models import Sequential\n",
        "from tensorflow.keras.layers import LSTM, Dense,Dropout\n",
        "import matplotlib.pyplot as plt"
      ],
      "metadata": {
        "id": "UrLLQH6mrRxl"
      },
      "execution_count": 1,
      "outputs": []
    },
    {
      "cell_type": "markdown",
      "source": [
        "Читање на датасет, претворање на колоната date во datetime и сортирање, селекција на конони"
      ],
      "metadata": {
        "id": "X0CJWL0zrl-W"
      }
    },
    {
      "cell_type": "code",
      "source": [
        "data = pd.read_csv('/content/SkopjeWeather.csv')\n",
        "\n",
        "data['date'] = pd.to_datetime(data['date'])\n",
        "data = data.sort_values('date')\n",
        "\n",
        "features = ['tavg', 'tmin', 'tmax']\n",
        "data_selected = data[features]\n",
        "data_selected"
      ],
      "metadata": {
        "colab": {
          "base_uri": "https://localhost:8080/",
          "height": 423
        },
        "id": "bWuS1oA9rY4_",
        "outputId": "2d8a863c-1994-43bb-c90f-f6642a7c90dd"
      },
      "execution_count": 3,
      "outputs": [
        {
          "output_type": "execute_result",
          "data": {
            "text/plain": [
              "     tavg  tmin  tmax\n",
              "0     7.8  -3.7  11.6\n",
              "1     4.9  -1.4  11.5\n",
              "2     4.4  -1.0   8.6\n",
              "3     2.8   0.2   7.5\n",
              "4    -1.6  -3.4   0.4\n",
              "..    ...   ...   ...\n",
              "584  23.9  18.1  33.6\n",
              "585  24.4  17.6  32.3\n",
              "586  23.3  18.4  29.5\n",
              "587  17.9  17.1  20.3\n",
              "588  18.5  15.3  24.4\n",
              "\n",
              "[589 rows x 3 columns]"
            ],
            "text/html": [
              "\n",
              "  <div id=\"df-8f6caf80-6f5b-4fb7-9bc0-343f5f199c3f\" class=\"colab-df-container\">\n",
              "    <div>\n",
              "<style scoped>\n",
              "    .dataframe tbody tr th:only-of-type {\n",
              "        vertical-align: middle;\n",
              "    }\n",
              "\n",
              "    .dataframe tbody tr th {\n",
              "        vertical-align: top;\n",
              "    }\n",
              "\n",
              "    .dataframe thead th {\n",
              "        text-align: right;\n",
              "    }\n",
              "</style>\n",
              "<table border=\"1\" class=\"dataframe\">\n",
              "  <thead>\n",
              "    <tr style=\"text-align: right;\">\n",
              "      <th></th>\n",
              "      <th>tavg</th>\n",
              "      <th>tmin</th>\n",
              "      <th>tmax</th>\n",
              "    </tr>\n",
              "  </thead>\n",
              "  <tbody>\n",
              "    <tr>\n",
              "      <th>0</th>\n",
              "      <td>7.8</td>\n",
              "      <td>-3.7</td>\n",
              "      <td>11.6</td>\n",
              "    </tr>\n",
              "    <tr>\n",
              "      <th>1</th>\n",
              "      <td>4.9</td>\n",
              "      <td>-1.4</td>\n",
              "      <td>11.5</td>\n",
              "    </tr>\n",
              "    <tr>\n",
              "      <th>2</th>\n",
              "      <td>4.4</td>\n",
              "      <td>-1.0</td>\n",
              "      <td>8.6</td>\n",
              "    </tr>\n",
              "    <tr>\n",
              "      <th>3</th>\n",
              "      <td>2.8</td>\n",
              "      <td>0.2</td>\n",
              "      <td>7.5</td>\n",
              "    </tr>\n",
              "    <tr>\n",
              "      <th>4</th>\n",
              "      <td>-1.6</td>\n",
              "      <td>-3.4</td>\n",
              "      <td>0.4</td>\n",
              "    </tr>\n",
              "    <tr>\n",
              "      <th>...</th>\n",
              "      <td>...</td>\n",
              "      <td>...</td>\n",
              "      <td>...</td>\n",
              "    </tr>\n",
              "    <tr>\n",
              "      <th>584</th>\n",
              "      <td>23.9</td>\n",
              "      <td>18.1</td>\n",
              "      <td>33.6</td>\n",
              "    </tr>\n",
              "    <tr>\n",
              "      <th>585</th>\n",
              "      <td>24.4</td>\n",
              "      <td>17.6</td>\n",
              "      <td>32.3</td>\n",
              "    </tr>\n",
              "    <tr>\n",
              "      <th>586</th>\n",
              "      <td>23.3</td>\n",
              "      <td>18.4</td>\n",
              "      <td>29.5</td>\n",
              "    </tr>\n",
              "    <tr>\n",
              "      <th>587</th>\n",
              "      <td>17.9</td>\n",
              "      <td>17.1</td>\n",
              "      <td>20.3</td>\n",
              "    </tr>\n",
              "    <tr>\n",
              "      <th>588</th>\n",
              "      <td>18.5</td>\n",
              "      <td>15.3</td>\n",
              "      <td>24.4</td>\n",
              "    </tr>\n",
              "  </tbody>\n",
              "</table>\n",
              "<p>589 rows × 3 columns</p>\n",
              "</div>\n",
              "    <div class=\"colab-df-buttons\">\n",
              "\n",
              "  <div class=\"colab-df-container\">\n",
              "    <button class=\"colab-df-convert\" onclick=\"convertToInteractive('df-8f6caf80-6f5b-4fb7-9bc0-343f5f199c3f')\"\n",
              "            title=\"Convert this dataframe to an interactive table.\"\n",
              "            style=\"display:none;\">\n",
              "\n",
              "  <svg xmlns=\"http://www.w3.org/2000/svg\" height=\"24px\" viewBox=\"0 -960 960 960\">\n",
              "    <path d=\"M120-120v-720h720v720H120Zm60-500h600v-160H180v160Zm220 220h160v-160H400v160Zm0 220h160v-160H400v160ZM180-400h160v-160H180v160Zm440 0h160v-160H620v160ZM180-180h160v-160H180v160Zm440 0h160v-160H620v160Z\"/>\n",
              "  </svg>\n",
              "    </button>\n",
              "\n",
              "  <style>\n",
              "    .colab-df-container {\n",
              "      display:flex;\n",
              "      gap: 12px;\n",
              "    }\n",
              "\n",
              "    .colab-df-convert {\n",
              "      background-color: #E8F0FE;\n",
              "      border: none;\n",
              "      border-radius: 50%;\n",
              "      cursor: pointer;\n",
              "      display: none;\n",
              "      fill: #1967D2;\n",
              "      height: 32px;\n",
              "      padding: 0 0 0 0;\n",
              "      width: 32px;\n",
              "    }\n",
              "\n",
              "    .colab-df-convert:hover {\n",
              "      background-color: #E2EBFA;\n",
              "      box-shadow: 0px 1px 2px rgba(60, 64, 67, 0.3), 0px 1px 3px 1px rgba(60, 64, 67, 0.15);\n",
              "      fill: #174EA6;\n",
              "    }\n",
              "\n",
              "    .colab-df-buttons div {\n",
              "      margin-bottom: 4px;\n",
              "    }\n",
              "\n",
              "    [theme=dark] .colab-df-convert {\n",
              "      background-color: #3B4455;\n",
              "      fill: #D2E3FC;\n",
              "    }\n",
              "\n",
              "    [theme=dark] .colab-df-convert:hover {\n",
              "      background-color: #434B5C;\n",
              "      box-shadow: 0px 1px 3px 1px rgba(0, 0, 0, 0.15);\n",
              "      filter: drop-shadow(0px 1px 2px rgba(0, 0, 0, 0.3));\n",
              "      fill: #FFFFFF;\n",
              "    }\n",
              "  </style>\n",
              "\n",
              "    <script>\n",
              "      const buttonEl =\n",
              "        document.querySelector('#df-8f6caf80-6f5b-4fb7-9bc0-343f5f199c3f button.colab-df-convert');\n",
              "      buttonEl.style.display =\n",
              "        google.colab.kernel.accessAllowed ? 'block' : 'none';\n",
              "\n",
              "      async function convertToInteractive(key) {\n",
              "        const element = document.querySelector('#df-8f6caf80-6f5b-4fb7-9bc0-343f5f199c3f');\n",
              "        const dataTable =\n",
              "          await google.colab.kernel.invokeFunction('convertToInteractive',\n",
              "                                                    [key], {});\n",
              "        if (!dataTable) return;\n",
              "\n",
              "        const docLinkHtml = 'Like what you see? Visit the ' +\n",
              "          '<a target=\"_blank\" href=https://colab.research.google.com/notebooks/data_table.ipynb>data table notebook</a>'\n",
              "          + ' to learn more about interactive tables.';\n",
              "        element.innerHTML = '';\n",
              "        dataTable['output_type'] = 'display_data';\n",
              "        await google.colab.output.renderOutput(dataTable, element);\n",
              "        const docLink = document.createElement('div');\n",
              "        docLink.innerHTML = docLinkHtml;\n",
              "        element.appendChild(docLink);\n",
              "      }\n",
              "    </script>\n",
              "  </div>\n",
              "\n",
              "\n",
              "<div id=\"df-0b227f2f-f313-427c-a035-003b932f9905\">\n",
              "  <button class=\"colab-df-quickchart\" onclick=\"quickchart('df-0b227f2f-f313-427c-a035-003b932f9905')\"\n",
              "            title=\"Suggest charts\"\n",
              "            style=\"display:none;\">\n",
              "\n",
              "<svg xmlns=\"http://www.w3.org/2000/svg\" height=\"24px\"viewBox=\"0 0 24 24\"\n",
              "     width=\"24px\">\n",
              "    <g>\n",
              "        <path d=\"M19 3H5c-1.1 0-2 .9-2 2v14c0 1.1.9 2 2 2h14c1.1 0 2-.9 2-2V5c0-1.1-.9-2-2-2zM9 17H7v-7h2v7zm4 0h-2V7h2v10zm4 0h-2v-4h2v4z\"/>\n",
              "    </g>\n",
              "</svg>\n",
              "  </button>\n",
              "\n",
              "<style>\n",
              "  .colab-df-quickchart {\n",
              "      --bg-color: #E8F0FE;\n",
              "      --fill-color: #1967D2;\n",
              "      --hover-bg-color: #E2EBFA;\n",
              "      --hover-fill-color: #174EA6;\n",
              "      --disabled-fill-color: #AAA;\n",
              "      --disabled-bg-color: #DDD;\n",
              "  }\n",
              "\n",
              "  [theme=dark] .colab-df-quickchart {\n",
              "      --bg-color: #3B4455;\n",
              "      --fill-color: #D2E3FC;\n",
              "      --hover-bg-color: #434B5C;\n",
              "      --hover-fill-color: #FFFFFF;\n",
              "      --disabled-bg-color: #3B4455;\n",
              "      --disabled-fill-color: #666;\n",
              "  }\n",
              "\n",
              "  .colab-df-quickchart {\n",
              "    background-color: var(--bg-color);\n",
              "    border: none;\n",
              "    border-radius: 50%;\n",
              "    cursor: pointer;\n",
              "    display: none;\n",
              "    fill: var(--fill-color);\n",
              "    height: 32px;\n",
              "    padding: 0;\n",
              "    width: 32px;\n",
              "  }\n",
              "\n",
              "  .colab-df-quickchart:hover {\n",
              "    background-color: var(--hover-bg-color);\n",
              "    box-shadow: 0 1px 2px rgba(60, 64, 67, 0.3), 0 1px 3px 1px rgba(60, 64, 67, 0.15);\n",
              "    fill: var(--button-hover-fill-color);\n",
              "  }\n",
              "\n",
              "  .colab-df-quickchart-complete:disabled,\n",
              "  .colab-df-quickchart-complete:disabled:hover {\n",
              "    background-color: var(--disabled-bg-color);\n",
              "    fill: var(--disabled-fill-color);\n",
              "    box-shadow: none;\n",
              "  }\n",
              "\n",
              "  .colab-df-spinner {\n",
              "    border: 2px solid var(--fill-color);\n",
              "    border-color: transparent;\n",
              "    border-bottom-color: var(--fill-color);\n",
              "    animation:\n",
              "      spin 1s steps(1) infinite;\n",
              "  }\n",
              "\n",
              "  @keyframes spin {\n",
              "    0% {\n",
              "      border-color: transparent;\n",
              "      border-bottom-color: var(--fill-color);\n",
              "      border-left-color: var(--fill-color);\n",
              "    }\n",
              "    20% {\n",
              "      border-color: transparent;\n",
              "      border-left-color: var(--fill-color);\n",
              "      border-top-color: var(--fill-color);\n",
              "    }\n",
              "    30% {\n",
              "      border-color: transparent;\n",
              "      border-left-color: var(--fill-color);\n",
              "      border-top-color: var(--fill-color);\n",
              "      border-right-color: var(--fill-color);\n",
              "    }\n",
              "    40% {\n",
              "      border-color: transparent;\n",
              "      border-right-color: var(--fill-color);\n",
              "      border-top-color: var(--fill-color);\n",
              "    }\n",
              "    60% {\n",
              "      border-color: transparent;\n",
              "      border-right-color: var(--fill-color);\n",
              "    }\n",
              "    80% {\n",
              "      border-color: transparent;\n",
              "      border-right-color: var(--fill-color);\n",
              "      border-bottom-color: var(--fill-color);\n",
              "    }\n",
              "    90% {\n",
              "      border-color: transparent;\n",
              "      border-bottom-color: var(--fill-color);\n",
              "    }\n",
              "  }\n",
              "</style>\n",
              "\n",
              "  <script>\n",
              "    async function quickchart(key) {\n",
              "      const quickchartButtonEl =\n",
              "        document.querySelector('#' + key + ' button');\n",
              "      quickchartButtonEl.disabled = true;  // To prevent multiple clicks.\n",
              "      quickchartButtonEl.classList.add('colab-df-spinner');\n",
              "      try {\n",
              "        const charts = await google.colab.kernel.invokeFunction(\n",
              "            'suggestCharts', [key], {});\n",
              "      } catch (error) {\n",
              "        console.error('Error during call to suggestCharts:', error);\n",
              "      }\n",
              "      quickchartButtonEl.classList.remove('colab-df-spinner');\n",
              "      quickchartButtonEl.classList.add('colab-df-quickchart-complete');\n",
              "    }\n",
              "    (() => {\n",
              "      let quickchartButtonEl =\n",
              "        document.querySelector('#df-0b227f2f-f313-427c-a035-003b932f9905 button');\n",
              "      quickchartButtonEl.style.display =\n",
              "        google.colab.kernel.accessAllowed ? 'block' : 'none';\n",
              "    })();\n",
              "  </script>\n",
              "</div>\n",
              "\n",
              "  <div id=\"id_d4147c61-1281-4220-a900-f3ba4e0ece03\">\n",
              "    <style>\n",
              "      .colab-df-generate {\n",
              "        background-color: #E8F0FE;\n",
              "        border: none;\n",
              "        border-radius: 50%;\n",
              "        cursor: pointer;\n",
              "        display: none;\n",
              "        fill: #1967D2;\n",
              "        height: 32px;\n",
              "        padding: 0 0 0 0;\n",
              "        width: 32px;\n",
              "      }\n",
              "\n",
              "      .colab-df-generate:hover {\n",
              "        background-color: #E2EBFA;\n",
              "        box-shadow: 0px 1px 2px rgba(60, 64, 67, 0.3), 0px 1px 3px 1px rgba(60, 64, 67, 0.15);\n",
              "        fill: #174EA6;\n",
              "      }\n",
              "\n",
              "      [theme=dark] .colab-df-generate {\n",
              "        background-color: #3B4455;\n",
              "        fill: #D2E3FC;\n",
              "      }\n",
              "\n",
              "      [theme=dark] .colab-df-generate:hover {\n",
              "        background-color: #434B5C;\n",
              "        box-shadow: 0px 1px 3px 1px rgba(0, 0, 0, 0.15);\n",
              "        filter: drop-shadow(0px 1px 2px rgba(0, 0, 0, 0.3));\n",
              "        fill: #FFFFFF;\n",
              "      }\n",
              "    </style>\n",
              "    <button class=\"colab-df-generate\" onclick=\"generateWithVariable('data_selected')\"\n",
              "            title=\"Generate code using this dataframe.\"\n",
              "            style=\"display:none;\">\n",
              "\n",
              "  <svg xmlns=\"http://www.w3.org/2000/svg\" height=\"24px\"viewBox=\"0 0 24 24\"\n",
              "       width=\"24px\">\n",
              "    <path d=\"M7,19H8.4L18.45,9,17,7.55,7,17.6ZM5,21V16.75L18.45,3.32a2,2,0,0,1,2.83,0l1.4,1.43a1.91,1.91,0,0,1,.58,1.4,1.91,1.91,0,0,1-.58,1.4L9.25,21ZM18.45,9,17,7.55Zm-12,3A5.31,5.31,0,0,0,4.9,8.1,5.31,5.31,0,0,0,1,6.5,5.31,5.31,0,0,0,4.9,4.9,5.31,5.31,0,0,0,6.5,1,5.31,5.31,0,0,0,8.1,4.9,5.31,5.31,0,0,0,12,6.5,5.46,5.46,0,0,0,6.5,12Z\"/>\n",
              "  </svg>\n",
              "    </button>\n",
              "    <script>\n",
              "      (() => {\n",
              "      const buttonEl =\n",
              "        document.querySelector('#id_d4147c61-1281-4220-a900-f3ba4e0ece03 button.colab-df-generate');\n",
              "      buttonEl.style.display =\n",
              "        google.colab.kernel.accessAllowed ? 'block' : 'none';\n",
              "\n",
              "      buttonEl.onclick = () => {\n",
              "        google.colab.notebook.generateWithVariable('data_selected');\n",
              "      }\n",
              "      })();\n",
              "    </script>\n",
              "  </div>\n",
              "\n",
              "    </div>\n",
              "  </div>\n"
            ],
            "application/vnd.google.colaboratory.intrinsic+json": {
              "type": "dataframe",
              "variable_name": "data_selected",
              "summary": "{\n  \"name\": \"data_selected\",\n  \"rows\": 589,\n  \"fields\": [\n    {\n      \"column\": \"tavg\",\n      \"properties\": {\n        \"dtype\": \"number\",\n        \"std\": 8.669681434885106,\n        \"min\": -2.9,\n        \"max\": 33.7,\n        \"num_unique_values\": 267,\n        \"samples\": [\n          19.4,\n          15.3,\n          4.0\n        ],\n        \"semantic_type\": \"\",\n        \"description\": \"\"\n      }\n    },\n    {\n      \"column\": \"tmin\",\n      \"properties\": {\n        \"dtype\": \"number\",\n        \"std\": 7.616613225517627,\n        \"min\": -8.4,\n        \"max\": 23.0,\n        \"num_unique_values\": 248,\n        \"samples\": [\n          1.6,\n          -7.0,\n          2.5\n        ],\n        \"semantic_type\": \"\",\n        \"description\": \"\"\n      }\n    },\n    {\n      \"column\": \"tmax\",\n      \"properties\": {\n        \"dtype\": \"number\",\n        \"std\": 9.933289999910906,\n        \"min\": 0.1,\n        \"max\": 40.8,\n        \"num_unique_values\": 300,\n        \"samples\": [\n          6.6,\n          34.4,\n          32.0\n        ],\n        \"semantic_type\": \"\",\n        \"description\": \"\"\n      }\n    }\n  ]\n}"
            }
          },
          "metadata": {},
          "execution_count": 3
        }
      ]
    },
    {
      "cell_type": "code",
      "source": [
        "data_selected.isnull().sum()"
      ],
      "metadata": {
        "colab": {
          "base_uri": "https://localhost:8080/",
          "height": 178
        },
        "id": "2NFdvUjYsIRH",
        "outputId": "5f3f671e-32f5-4ae2-de7b-39f0878654d5"
      },
      "execution_count": 4,
      "outputs": [
        {
          "output_type": "execute_result",
          "data": {
            "text/plain": [
              "tavg    0\n",
              "tmin    0\n",
              "tmax    0\n",
              "dtype: int64"
            ],
            "text/html": [
              "<div>\n",
              "<style scoped>\n",
              "    .dataframe tbody tr th:only-of-type {\n",
              "        vertical-align: middle;\n",
              "    }\n",
              "\n",
              "    .dataframe tbody tr th {\n",
              "        vertical-align: top;\n",
              "    }\n",
              "\n",
              "    .dataframe thead th {\n",
              "        text-align: right;\n",
              "    }\n",
              "</style>\n",
              "<table border=\"1\" class=\"dataframe\">\n",
              "  <thead>\n",
              "    <tr style=\"text-align: right;\">\n",
              "      <th></th>\n",
              "      <th>0</th>\n",
              "    </tr>\n",
              "  </thead>\n",
              "  <tbody>\n",
              "    <tr>\n",
              "      <th>tavg</th>\n",
              "      <td>0</td>\n",
              "    </tr>\n",
              "    <tr>\n",
              "      <th>tmin</th>\n",
              "      <td>0</td>\n",
              "    </tr>\n",
              "    <tr>\n",
              "      <th>tmax</th>\n",
              "      <td>0</td>\n",
              "    </tr>\n",
              "  </tbody>\n",
              "</table>\n",
              "</div><br><label><b>dtype:</b> int64</label>"
            ]
          },
          "metadata": {},
          "execution_count": 4
        }
      ]
    },
    {
      "cell_type": "markdown",
      "source": [
        "Нормализација на податоците"
      ],
      "metadata": {
        "id": "jNYfLs3OsZ2w"
      }
    },
    {
      "cell_type": "code",
      "source": [
        "scaler = MinMaxScaler(feature_range=(0, 1))\n",
        "scaled_data = scaler.fit_transform(data_selected)"
      ],
      "metadata": {
        "id": "uKiUmsQqsc01"
      },
      "execution_count": 5,
      "outputs": []
    },
    {
      "cell_type": "markdown",
      "source": [
        "Kреирање на секвенци за LSTM"
      ],
      "metadata": {
        "id": "Dy5Bor-Rsg-8"
      }
    },
    {
      "cell_type": "code",
      "source": [
        "def seq(data, sequence_length=1):\n",
        "    X = []\n",
        "    y = []\n",
        "    for i in range(len(data) - sequence_length):\n",
        "        X.append(data[i:i + sequence_length])\n",
        "        y.append(data[i + sequence_length, 0])\n",
        "    return np.array(X), np.array(y)\n",
        "\n",
        "sequence_length = 1\n",
        "X, y = seq(scaled_data, sequence_length)"
      ],
      "metadata": {
        "id": "sfdyrcw1sqVk"
      },
      "execution_count": 6,
      "outputs": []
    },
    {
      "cell_type": "markdown",
      "source": [
        "Пделба на податоците за тренирање и тестирање"
      ],
      "metadata": {
        "id": "4EpZJAkPtBx5"
      }
    },
    {
      "cell_type": "code",
      "source": [
        "train_size = int(len(X) * 0.8)\n",
        "X_train, X_test = X[:train_size], X[train_size:]\n",
        "y_train, y_test = y[:train_size], y[train_size:]"
      ],
      "metadata": {
        "id": "nw5P5Z2ltIZy"
      },
      "execution_count": 7,
      "outputs": []
    },
    {
      "cell_type": "code",
      "source": [
        "X_train = X_train.reshape((X_train.shape[0], sequence_length, X_train.shape[2]))\n",
        "X_test = X_test.reshape((X_test.shape[0], sequence_length, X_test.shape[2]))"
      ],
      "metadata": {
        "id": "a5hYZOdbtXou"
      },
      "execution_count": 8,
      "outputs": []
    },
    {
      "cell_type": "markdown",
      "source": [
        "Креирање на модел"
      ],
      "metadata": {
        "id": "LLVtTDRlta4N"
      }
    },
    {
      "cell_type": "code",
      "source": [
        "model = Sequential()\n",
        "model.add(LSTM(50, return_sequences=False,activation='relu', input_shape=(sequence_length, X_train.shape[2])))\n",
        "\n",
        "model.add(Dense(1))\n",
        "model.compile(optimizer='adam', loss='mean_squared_error')"
      ],
      "metadata": {
        "colab": {
          "base_uri": "https://localhost:8080/"
        },
        "id": "s0pvFCMRtfq7",
        "outputId": "a92a222a-1ad6-4768-cb25-91879b3ebec4"
      },
      "execution_count": 20,
      "outputs": [
        {
          "output_type": "stream",
          "name": "stderr",
          "text": [
            "/usr/local/lib/python3.10/dist-packages/keras/src/layers/rnn/rnn.py:204: UserWarning: Do not pass an `input_shape`/`input_dim` argument to a layer. When using Sequential models, prefer using an `Input(shape)` object as the first layer in the model instead.\n",
            "  super().__init__(**kwargs)\n"
          ]
        }
      ]
    },
    {
      "cell_type": "markdown",
      "source": [
        "Тренинг на моделот"
      ],
      "metadata": {
        "id": "N0JNryV8toss"
      }
    },
    {
      "cell_type": "code",
      "source": [
        "history = model.fit(X_train, y_train, epochs=50, batch_size=16, validation_data=(X_test, y_test), verbose=1)"
      ],
      "metadata": {
        "colab": {
          "base_uri": "https://localhost:8080/"
        },
        "id": "etHIKYAstqAj",
        "outputId": "d2b02d1b-6d6f-4ffa-9372-b7ea73ecd419"
      },
      "execution_count": 21,
      "outputs": [
        {
          "output_type": "stream",
          "name": "stdout",
          "text": [
            "Epoch 1/50\n",
            "\u001b[1m30/30\u001b[0m \u001b[32m━━━━━━━━━━━━━━━━━━━━\u001b[0m\u001b[37m\u001b[0m \u001b[1m2s\u001b[0m 11ms/step - loss: 0.1870 - val_loss: 0.3091\n",
            "Epoch 2/50\n",
            "\u001b[1m30/30\u001b[0m \u001b[32m━━━━━━━━━━━━━━━━━━━━\u001b[0m\u001b[37m\u001b[0m \u001b[1m0s\u001b[0m 3ms/step - loss: 0.0887 - val_loss: 0.1088\n",
            "Epoch 3/50\n",
            "\u001b[1m30/30\u001b[0m \u001b[32m━━━━━━━━━━━━━━━━━━━━\u001b[0m\u001b[37m\u001b[0m \u001b[1m0s\u001b[0m 3ms/step - loss: 0.0244 - val_loss: 0.0177\n",
            "Epoch 4/50\n",
            "\u001b[1m30/30\u001b[0m \u001b[32m━━━━━━━━━━━━━━━━━━━━\u001b[0m\u001b[37m\u001b[0m \u001b[1m0s\u001b[0m 3ms/step - loss: 0.0076 - val_loss: 0.0086\n",
            "Epoch 5/50\n",
            "\u001b[1m30/30\u001b[0m \u001b[32m━━━━━━━━━━━━━━━━━━━━\u001b[0m\u001b[37m\u001b[0m \u001b[1m0s\u001b[0m 4ms/step - loss: 0.0063 - val_loss: 0.0075\n",
            "Epoch 6/50\n",
            "\u001b[1m30/30\u001b[0m \u001b[32m━━━━━━━━━━━━━━━━━━━━\u001b[0m\u001b[37m\u001b[0m \u001b[1m0s\u001b[0m 3ms/step - loss: 0.0060 - val_loss: 0.0061\n",
            "Epoch 7/50\n",
            "\u001b[1m30/30\u001b[0m \u001b[32m━━━━━━━━━━━━━━━━━━━━\u001b[0m\u001b[37m\u001b[0m \u001b[1m0s\u001b[0m 3ms/step - loss: 0.0048 - val_loss: 0.0048\n",
            "Epoch 8/50\n",
            "\u001b[1m30/30\u001b[0m \u001b[32m━━━━━━━━━━━━━━━━━━━━\u001b[0m\u001b[37m\u001b[0m \u001b[1m0s\u001b[0m 3ms/step - loss: 0.0041 - val_loss: 0.0047\n",
            "Epoch 9/50\n",
            "\u001b[1m30/30\u001b[0m \u001b[32m━━━━━━━━━━━━━━━━━━━━\u001b[0m\u001b[37m\u001b[0m \u001b[1m0s\u001b[0m 3ms/step - loss: 0.0036 - val_loss: 0.0039\n",
            "Epoch 10/50\n",
            "\u001b[1m30/30\u001b[0m \u001b[32m━━━━━━━━━━━━━━━━━━━━\u001b[0m\u001b[37m\u001b[0m \u001b[1m0s\u001b[0m 3ms/step - loss: 0.0040 - val_loss: 0.0039\n",
            "Epoch 11/50\n",
            "\u001b[1m30/30\u001b[0m \u001b[32m━━━━━━━━━━━━━━━━━━━━\u001b[0m\u001b[37m\u001b[0m \u001b[1m0s\u001b[0m 3ms/step - loss: 0.0035 - val_loss: 0.0038\n",
            "Epoch 12/50\n",
            "\u001b[1m30/30\u001b[0m \u001b[32m━━━━━━━━━━━━━━━━━━━━\u001b[0m\u001b[37m\u001b[0m \u001b[1m0s\u001b[0m 3ms/step - loss: 0.0034 - val_loss: 0.0037\n",
            "Epoch 13/50\n",
            "\u001b[1m30/30\u001b[0m \u001b[32m━━━━━━━━━━━━━━━━━━━━\u001b[0m\u001b[37m\u001b[0m \u001b[1m0s\u001b[0m 4ms/step - loss: 0.0036 - val_loss: 0.0037\n",
            "Epoch 14/50\n",
            "\u001b[1m30/30\u001b[0m \u001b[32m━━━━━━━━━━━━━━━━━━━━\u001b[0m\u001b[37m\u001b[0m \u001b[1m0s\u001b[0m 3ms/step - loss: 0.0037 - val_loss: 0.0038\n",
            "Epoch 15/50\n",
            "\u001b[1m30/30\u001b[0m \u001b[32m━━━━━━━━━━━━━━━━━━━━\u001b[0m\u001b[37m\u001b[0m \u001b[1m0s\u001b[0m 3ms/step - loss: 0.0031 - val_loss: 0.0039\n",
            "Epoch 16/50\n",
            "\u001b[1m30/30\u001b[0m \u001b[32m━━━━━━━━━━━━━━━━━━━━\u001b[0m\u001b[37m\u001b[0m \u001b[1m0s\u001b[0m 3ms/step - loss: 0.0033 - val_loss: 0.0041\n",
            "Epoch 17/50\n",
            "\u001b[1m30/30\u001b[0m \u001b[32m━━━━━━━━━━━━━━━━━━━━\u001b[0m\u001b[37m\u001b[0m \u001b[1m0s\u001b[0m 3ms/step - loss: 0.0035 - val_loss: 0.0039\n",
            "Epoch 18/50\n",
            "\u001b[1m30/30\u001b[0m \u001b[32m━━━━━━━━━━━━━━━━━━━━\u001b[0m\u001b[37m\u001b[0m \u001b[1m0s\u001b[0m 3ms/step - loss: 0.0037 - val_loss: 0.0038\n",
            "Epoch 19/50\n",
            "\u001b[1m30/30\u001b[0m \u001b[32m━━━━━━━━━━━━━━━━━━━━\u001b[0m\u001b[37m\u001b[0m \u001b[1m0s\u001b[0m 3ms/step - loss: 0.0038 - val_loss: 0.0039\n",
            "Epoch 20/50\n",
            "\u001b[1m30/30\u001b[0m \u001b[32m━━━━━━━━━━━━━━━━━━━━\u001b[0m\u001b[37m\u001b[0m \u001b[1m0s\u001b[0m 3ms/step - loss: 0.0038 - val_loss: 0.0039\n",
            "Epoch 21/50\n",
            "\u001b[1m30/30\u001b[0m \u001b[32m━━━━━━━━━━━━━━━━━━━━\u001b[0m\u001b[37m\u001b[0m \u001b[1m0s\u001b[0m 3ms/step - loss: 0.0033 - val_loss: 0.0040\n",
            "Epoch 22/50\n",
            "\u001b[1m30/30\u001b[0m \u001b[32m━━━━━━━━━━━━━━━━━━━━\u001b[0m\u001b[37m\u001b[0m \u001b[1m0s\u001b[0m 3ms/step - loss: 0.0036 - val_loss: 0.0039\n",
            "Epoch 23/50\n",
            "\u001b[1m30/30\u001b[0m \u001b[32m━━━━━━━━━━━━━━━━━━━━\u001b[0m\u001b[37m\u001b[0m \u001b[1m0s\u001b[0m 3ms/step - loss: 0.0034 - val_loss: 0.0036\n",
            "Epoch 24/50\n",
            "\u001b[1m30/30\u001b[0m \u001b[32m━━━━━━━━━━━━━━━━━━━━\u001b[0m\u001b[37m\u001b[0m \u001b[1m0s\u001b[0m 3ms/step - loss: 0.0035 - val_loss: 0.0039\n",
            "Epoch 25/50\n",
            "\u001b[1m30/30\u001b[0m \u001b[32m━━━━━━━━━━━━━━━━━━━━\u001b[0m\u001b[37m\u001b[0m \u001b[1m0s\u001b[0m 3ms/step - loss: 0.0037 - val_loss: 0.0041\n",
            "Epoch 26/50\n",
            "\u001b[1m30/30\u001b[0m \u001b[32m━━━━━━━━━━━━━━━━━━━━\u001b[0m\u001b[37m\u001b[0m \u001b[1m0s\u001b[0m 3ms/step - loss: 0.0033 - val_loss: 0.0038\n",
            "Epoch 27/50\n",
            "\u001b[1m30/30\u001b[0m \u001b[32m━━━━━━━━━━━━━━━━━━━━\u001b[0m\u001b[37m\u001b[0m \u001b[1m0s\u001b[0m 3ms/step - loss: 0.0039 - val_loss: 0.0038\n",
            "Epoch 28/50\n",
            "\u001b[1m30/30\u001b[0m \u001b[32m━━━━━━━━━━━━━━━━━━━━\u001b[0m\u001b[37m\u001b[0m \u001b[1m0s\u001b[0m 3ms/step - loss: 0.0037 - val_loss: 0.0036\n",
            "Epoch 29/50\n",
            "\u001b[1m30/30\u001b[0m \u001b[32m━━━━━━━━━━━━━━━━━━━━\u001b[0m\u001b[37m\u001b[0m \u001b[1m0s\u001b[0m 3ms/step - loss: 0.0042 - val_loss: 0.0037\n",
            "Epoch 30/50\n",
            "\u001b[1m30/30\u001b[0m \u001b[32m━━━━━━━━━━━━━━━━━━━━\u001b[0m\u001b[37m\u001b[0m \u001b[1m0s\u001b[0m 3ms/step - loss: 0.0037 - val_loss: 0.0036\n",
            "Epoch 31/50\n",
            "\u001b[1m30/30\u001b[0m \u001b[32m━━━━━━━━━━━━━━━━━━━━\u001b[0m\u001b[37m\u001b[0m \u001b[1m0s\u001b[0m 3ms/step - loss: 0.0037 - val_loss: 0.0036\n",
            "Epoch 32/50\n",
            "\u001b[1m30/30\u001b[0m \u001b[32m━━━━━━━━━━━━━━━━━━━━\u001b[0m\u001b[37m\u001b[0m \u001b[1m0s\u001b[0m 3ms/step - loss: 0.0039 - val_loss: 0.0036\n",
            "Epoch 33/50\n",
            "\u001b[1m30/30\u001b[0m \u001b[32m━━━━━━━━━━━━━━━━━━━━\u001b[0m\u001b[37m\u001b[0m \u001b[1m0s\u001b[0m 3ms/step - loss: 0.0034 - val_loss: 0.0039\n",
            "Epoch 34/50\n",
            "\u001b[1m30/30\u001b[0m \u001b[32m━━━━━━━━━━━━━━━━━━━━\u001b[0m\u001b[37m\u001b[0m \u001b[1m0s\u001b[0m 3ms/step - loss: 0.0038 - val_loss: 0.0041\n",
            "Epoch 35/50\n",
            "\u001b[1m30/30\u001b[0m \u001b[32m━━━━━━━━━━━━━━━━━━━━\u001b[0m\u001b[37m\u001b[0m \u001b[1m0s\u001b[0m 3ms/step - loss: 0.0037 - val_loss: 0.0039\n",
            "Epoch 36/50\n",
            "\u001b[1m30/30\u001b[0m \u001b[32m━━━━━━━━━━━━━━━━━━━━\u001b[0m\u001b[37m\u001b[0m \u001b[1m0s\u001b[0m 3ms/step - loss: 0.0035 - val_loss: 0.0036\n",
            "Epoch 37/50\n",
            "\u001b[1m30/30\u001b[0m \u001b[32m━━━━━━━━━━━━━━━━━━━━\u001b[0m\u001b[37m\u001b[0m \u001b[1m0s\u001b[0m 3ms/step - loss: 0.0037 - val_loss: 0.0039\n",
            "Epoch 38/50\n",
            "\u001b[1m30/30\u001b[0m \u001b[32m━━━━━━━━━━━━━━━━━━━━\u001b[0m\u001b[37m\u001b[0m \u001b[1m0s\u001b[0m 3ms/step - loss: 0.0036 - val_loss: 0.0037\n",
            "Epoch 39/50\n",
            "\u001b[1m30/30\u001b[0m \u001b[32m━━━━━━━━━━━━━━━━━━━━\u001b[0m\u001b[37m\u001b[0m \u001b[1m0s\u001b[0m 3ms/step - loss: 0.0034 - val_loss: 0.0041\n",
            "Epoch 40/50\n",
            "\u001b[1m30/30\u001b[0m \u001b[32m━━━━━━━━━━━━━━━━━━━━\u001b[0m\u001b[37m\u001b[0m \u001b[1m0s\u001b[0m 3ms/step - loss: 0.0038 - val_loss: 0.0040\n",
            "Epoch 41/50\n",
            "\u001b[1m30/30\u001b[0m \u001b[32m━━━━━━━━━━━━━━━━━━━━\u001b[0m\u001b[37m\u001b[0m \u001b[1m0s\u001b[0m 3ms/step - loss: 0.0036 - val_loss: 0.0039\n",
            "Epoch 42/50\n",
            "\u001b[1m30/30\u001b[0m \u001b[32m━━━━━━━━━━━━━━━━━━━━\u001b[0m\u001b[37m\u001b[0m \u001b[1m0s\u001b[0m 3ms/step - loss: 0.0030 - val_loss: 0.0037\n",
            "Epoch 43/50\n",
            "\u001b[1m30/30\u001b[0m \u001b[32m━━━━━━━━━━━━━━━━━━━━\u001b[0m\u001b[37m\u001b[0m \u001b[1m0s\u001b[0m 3ms/step - loss: 0.0034 - val_loss: 0.0040\n",
            "Epoch 44/50\n",
            "\u001b[1m30/30\u001b[0m \u001b[32m━━━━━━━━━━━━━━━━━━━━\u001b[0m\u001b[37m\u001b[0m \u001b[1m0s\u001b[0m 3ms/step - loss: 0.0037 - val_loss: 0.0040\n",
            "Epoch 45/50\n",
            "\u001b[1m30/30\u001b[0m \u001b[32m━━━━━━━━━━━━━━━━━━━━\u001b[0m\u001b[37m\u001b[0m \u001b[1m0s\u001b[0m 3ms/step - loss: 0.0040 - val_loss: 0.0038\n",
            "Epoch 46/50\n",
            "\u001b[1m30/30\u001b[0m \u001b[32m━━━━━━━━━━━━━━━━━━━━\u001b[0m\u001b[37m\u001b[0m \u001b[1m0s\u001b[0m 3ms/step - loss: 0.0033 - val_loss: 0.0043\n",
            "Epoch 47/50\n",
            "\u001b[1m30/30\u001b[0m \u001b[32m━━━━━━━━━━━━━━━━━━━━\u001b[0m\u001b[37m\u001b[0m \u001b[1m0s\u001b[0m 3ms/step - loss: 0.0038 - val_loss: 0.0039\n",
            "Epoch 48/50\n",
            "\u001b[1m30/30\u001b[0m \u001b[32m━━━━━━━━━━━━━━━━━━━━\u001b[0m\u001b[37m\u001b[0m \u001b[1m0s\u001b[0m 3ms/step - loss: 0.0035 - val_loss: 0.0040\n",
            "Epoch 49/50\n",
            "\u001b[1m30/30\u001b[0m \u001b[32m━━━━━━━━━━━━━━━━━━━━\u001b[0m\u001b[37m\u001b[0m \u001b[1m0s\u001b[0m 3ms/step - loss: 0.0033 - val_loss: 0.0040\n",
            "Epoch 50/50\n",
            "\u001b[1m30/30\u001b[0m \u001b[32m━━━━━━━━━━━━━━━━━━━━\u001b[0m\u001b[37m\u001b[0m \u001b[1m0s\u001b[0m 3ms/step - loss: 0.0039 - val_loss: 0.0035\n"
          ]
        }
      ]
    },
    {
      "cell_type": "markdown",
      "source": [
        "Предвидување"
      ],
      "metadata": {
        "id": "VyLjbsCTtwod"
      }
    },
    {
      "cell_type": "code",
      "source": [
        "predictions = model.predict(X_test)"
      ],
      "metadata": {
        "colab": {
          "base_uri": "https://localhost:8080/"
        },
        "id": "IXNKtAEFtzPK",
        "outputId": "e2b95cbe-63e3-4b47-fdbf-ceec4e15396e"
      },
      "execution_count": 22,
      "outputs": [
        {
          "output_type": "stream",
          "name": "stdout",
          "text": [
            "\u001b[1m4/4\u001b[0m \u001b[32m━━━━━━━━━━━━━━━━━━━━\u001b[0m\u001b[37m\u001b[0m \u001b[1m0s\u001b[0m 48ms/step\n"
          ]
        }
      ]
    },
    {
      "cell_type": "markdown",
      "source": [
        "Трансформација на предвидуваните и вистинските вредност"
      ],
      "metadata": {
        "id": "aVZg1tHvuHCP"
      }
    },
    {
      "cell_type": "code",
      "source": [
        "predictions_rescaled = scaler.inverse_transform(np.concatenate((predictions, np.zeros((predictions.shape[0], X_test.shape[2] - 1))), axis=1))[:, 0]\n",
        "y_test_rescaled = scaler.inverse_transform(np.concatenate((y_test.reshape(-1, 1), np.zeros((y_test.shape[0], X_test.shape[2] - 1))), axis=1))[:, 0]"
      ],
      "metadata": {
        "id": "ldR9AuAxuQWY"
      },
      "execution_count": 23,
      "outputs": []
    },
    {
      "cell_type": "markdown",
      "source": [
        "Визуелизација"
      ],
      "metadata": {
        "id": "r-d4bvQJucnB"
      }
    },
    {
      "cell_type": "code",
      "source": [
        "plt.figure(figsize=(10,6))\n",
        "plt.plot(y_test_rescaled, label='Actual Temperature')\n",
        "plt.plot(predictions_rescaled, label='Predicted Temperature')\n",
        "plt.title('Actual vs Predicted Temperature')\n",
        "plt.xlabel('Days')\n",
        "plt.ylabel('Temperature (°C)')\n",
        "plt.legend()\n",
        "plt.show()"
      ],
      "metadata": {
        "colab": {
          "base_uri": "https://localhost:8080/",
          "height": 564
        },
        "id": "BvriWpFtudlw",
        "outputId": "f3e599a7-1d56-4506-9b32-ea9734b0f766"
      },
      "execution_count": 24,
      "outputs": [
        {
          "output_type": "display_data",
          "data": {
            "text/plain": [
              "<Figure size 1000x600 with 1 Axes>"
            ],
            "image/png": "[encoded data removed]"
          },
          "metadata": {}
        }
      ]
    },
    {
      "cell_type": "markdown",
      "source": [
        "Mean Squared Error"
      ],
      "metadata": {
        "id": "nKDu8Sdrui5W"
      }
    },
    {
      "cell_type": "code",
      "source": [
        "mse = np.mean((predictions_rescaled - y_test_rescaled)**2)\n",
        "print(f\"Mean Squared Error: {mse}\")"
      ],
      "metadata": {
        "colab": {
          "base_uri": "https://localhost:8080/"
        },
        "id": "dsgaTKFrupSG",
        "outputId": "080f9ea2-d57b-4937-d7a3-7ebf1c07ff6c"
      },
      "execution_count": 25,
      "outputs": [
        {
          "output_type": "stream",
          "name": "stdout",
          "text": [
            "Mean Squared Error: 4.733741696802734\n"
          ]
        }
      ]
    },
    {
      "cell_type": "code",
      "source": [
        "!pip install tf2onnx"
      ],
      "metadata": {
        "colab": {
          "base_uri": "https://localhost:8080/"
        },
        "id": "Yc6BAAUFwif4",
        "outputId": "3d9dc13a-1805-41ed-e483-2c885b26b679"
      },
      "execution_count": 26,
      "outputs": [
        {
          "output_type": "stream",
          "name": "stdout",
          "text": [
            "Collecting tf2onnx\n",
            "  Downloading tf2onnx-1.16.1-py3-none-any.whl.metadata (1.3 kB)\n",
            "Requirement already satisfied: numpy>=1.14.1 in /usr/local/lib/python3.10/dist-packages (from tf2onnx) (1.26.4)\n",
            "Collecting onnx>=1.4.1 (from tf2onnx)\n",
            "  Downloading onnx-1.16.2-cp310-cp310-manylinux_2_17_x86_64.manylinux2014_x86_64.whl.metadata (16 kB)\n",
            "Requirement already satisfied: requests in /usr/local/lib/python3.10/dist-packages (from tf2onnx) (2.32.3)\n",
            "Requirement already satisfied: six in /usr/local/lib/python3.10/dist-packages (from tf2onnx) (1.16.0)\n",
            "Requirement already satisfied: flatbuffers>=1.12 in /usr/local/lib/python3.10/dist-packages (from tf2onnx) (24.3.25)\n",
            "Requirement already satisfied: protobuf~=3.20 in /usr/local/lib/python3.10/dist-packages (from tf2onnx) (3.20.3)\n",
            "Requirement already satisfied: charset-normalizer<4,>=2 in /usr/local/lib/python3.10/dist-packages (from requests->tf2onnx) (3.3.2)\n",
            "Requirement already satisfied: idna<4,>=2.5 in /usr/local/lib/python3.10/dist-packages (from requests->tf2onnx) (3.10)\n",
            "Requirement already satisfied: urllib3<3,>=1.21.1 in /usr/local/lib/python3.10/dist-packages (from requests->tf2onnx) (2.2.3)\n",
            "Requirement already satisfied: certifi>=2017.4.17 in /usr/local/lib/python3.10/dist-packages (from requests->tf2onnx) (2024.8.30)\n",
            "Downloading tf2onnx-1.16.1-py3-none-any.whl (455 kB)\n",
            "\u001b[2K   \u001b[90m━━━━━━━━━━━━━━━━━━━━━━━━━━━━━━━━━━━━━━━━\u001b[0m \u001b[32m455.8/455.8 kB\u001b[0m \u001b[31m29.9 MB/s\u001b[0m eta \u001b[36m0:00:00\u001b[0m\n",
            "\u001b[?25hDownloading onnx-1.16.2-cp310-cp310-manylinux_2_17_x86_64.manylinux2014_x86_64.whl (15.9 MB)\n",
            "\u001b[2K   \u001b[90m━━━━━━━━━━━━━━━━━━━━━━━━━━━━━━━━━━━━━━━━\u001b[0m \u001b[32m15.9/15.9 MB\u001b[0m \u001b[31m85.7 MB/s\u001b[0m eta \u001b[36m0:00:00\u001b[0m\n",
            "\u001b[?25hInstalling collected packages: onnx, tf2onnx\n",
            "Successfully installed onnx-1.16.2 tf2onnx-1.16.1\n"
          ]
        }
      ]
    },
    {
      "cell_type": "code",
      "source": [
        "!pip install onnx"
      ],
      "metadata": {
        "colab": {
          "base_uri": "https://localhost:8080/"
        },
        "id": "h1oesuuxwj89",
        "outputId": "1428b965-02b9-4219-e46c-db0ef47225b8"
      },
      "execution_count": 27,
      "outputs": [
        {
          "output_type": "stream",
          "name": "stdout",
          "text": [
            "Requirement already satisfied: onnx in /usr/local/lib/python3.10/dist-packages (1.16.2)\n",
            "Requirement already satisfied: numpy>=1.20 in /usr/local/lib/python3.10/dist-packages (from onnx) (1.26.4)\n",
            "Requirement already satisfied: protobuf>=3.20.2 in /usr/local/lib/python3.10/dist-packages (from onnx) (3.20.3)\n"
          ]
        }
      ]
    },
    {
      "cell_type": "code",
      "source": [
        "model.save('weather_model.h5')"
      ],
      "metadata": {
        "colab": {
          "base_uri": "https://localhost:8080/"
        },
        "id": "AwaFbBH7wsTu",
        "outputId": "40ee5ca9-77aa-453f-e36c-c877a90526e0"
      },
      "execution_count": 28,
      "outputs": [
        {
          "output_type": "stream",
          "name": "stderr",
          "text": [
            "WARNING:absl:You are saving your model as an HDF5 file via `model.save()` or `keras.saving.save_model(model)`. This file format is considered legacy. We recommend using instead the native Keras format, e.g. `model.save('my_model.keras')` or `keras.saving.save_model(model, 'my_model.keras')`. \n"
          ]
        }
      ]
    },
    {
      "cell_type": "code",
      "source": [
        "import tensorflow as tf\n",
        "from tensorflow.keras.models import load_model\n",
        "\n",
        "model = load_model('weather_model.h5')\n",
        "\n",
        "model.export('weather_model')"
      ],
      "metadata": {
        "colab": {
          "base_uri": "https://localhost:8080/"
        },
        "id": "ICB1e9N9xEDp",
        "outputId": "1cf9e242-c80c-4132-b1b4-2465d0b7c4ae"
      },
      "execution_count": 30,
      "outputs": [
        {
          "output_type": "stream",
          "name": "stderr",
          "text": [
            "WARNING:absl:Compiled the loaded model, but the compiled metrics have yet to be built. `model.compile_metrics` will be empty until you train or evaluate the model.\n"
          ]
        },
        {
          "output_type": "stream",
          "name": "stdout",
          "text": [
            "Saved artifact at 'weather_model'. The following endpoints are available:\n",
            "\n",
            "* Endpoint 'serve'\n",
            "  args_0 (POSITIONAL_ONLY): TensorSpec(shape=(None, 1, 3), dtype=tf.float32, name='input_layer_1')\n",
            "Output Type:\n",
            "  TensorSpec(shape=(None, 1), dtype=tf.float32, name=None)\n",
            "Captures:\n",
            "  138187019304656: TensorSpec(shape=(), dtype=tf.resource, name=None)\n",
            "  138187019785968: TensorSpec(shape=(), dtype=tf.resource, name=None)\n",
            "  138187019787728: TensorSpec(shape=(), dtype=tf.resource, name=None)\n",
            "  138187019793712: TensorSpec(shape=(), dtype=tf.resource, name=None)\n",
            "  138187019796000: TensorSpec(shape=(), dtype=tf.resource, name=None)\n"
          ]
        }
      ]
    },
    {
      "cell_type": "code",
      "source": [
        "!python -m tf2onnx.convert --saved-model weather_model --output \"model.onnx\""
      ],
      "metadata": {
        "colab": {
          "base_uri": "https://localhost:8080/"
        },
        "id": "TGK8ifQyxLVr",
        "outputId": "0d03e9fe-a772-459b-eb1d-26c509a6e4c2"
      },
      "execution_count": 31,
      "outputs": [
        {
          "output_type": "stream",
          "name": "stdout",
          "text": [
            "2024-09-25 15:21:30.132154: E external/local_xla/xla/stream_executor/cuda/cuda_fft.cc:485] Unable to register cuFFT factory: Attempting to register factory for plugin cuFFT when one has already been registered\n",
            "2024-09-25 15:21:30.157017: E external/local_xla/xla/stream_executor/cuda/cuda_dnn.cc:8454] Unable to register cuDNN factory: Attempting to register factory for plugin cuDNN when one has already been registered\n",
            "2024-09-25 15:21:30.163944: E external/local_xla/xla/stream_executor/cuda/cuda_blas.cc:1452] Unable to register cuBLAS factory: Attempting to register factory for plugin cuBLAS when one has already been registered\n",
            "2024-09-25 15:21:31.365850: W tensorflow/compiler/tf2tensorrt/utils/py_utils.cc:38] TF-TRT Warning: Could not find TensorRT\n",
            "/usr/lib/python3.10/runpy.py:126: RuntimeWarning: 'tf2onnx.convert' found in sys.modules after import of package 'tf2onnx', but prior to execution of 'tf2onnx.convert'; this may result in unpredictable behaviour\n",
            "  warn(RuntimeWarning(msg))\n",
            "2024-09-25 15:21:33,338 - WARNING - '--tag' not specified for saved_model. Using --tag serve\n",
            "2024-09-25 15:21:33,503 - INFO - Signatures found in model: [serve,serving_default].\n",
            "2024-09-25 15:21:33,503 - WARNING - '--signature_def' not specified, using first signature: serve\n",
            "2024-09-25 15:21:33,503 - INFO - Output names: ['output_0']\n",
            "WARNING: All log messages before absl::InitializeLog() is called are written to STDERR\n",
            "I0000 00:00:1727277693.511263    8125 devices.cc:67] Number of eligible GPUs (core count >= 8, compute capability >= 0.0): 0\n",
            "I0000 00:00:1727277693.658435    8125 devices.cc:67] Number of eligible GPUs (core count >= 8, compute capability >= 0.0): 0\n",
            "2024-09-25 15:21:33,700 - INFO - Using tensorflow=2.17.0, onnx=1.16.2, tf2onnx=1.16.1/15c810\n",
            "2024-09-25 15:21:33,701 - INFO - Using opset <onnx, 15>\n",
            "2024-09-25 15:21:33,743 - INFO - Computed 0 values for constant folding\n",
            "2024-09-25 15:21:33,760 - INFO - Computed 0 values for constant folding\n",
            "2024-09-25 15:21:33,778 - INFO - Computed 0 values for constant folding\n",
            "2024-09-25 15:21:33,895 - INFO - Optimizing ONNX model\n",
            "2024-09-25 15:21:34,423 - INFO - After optimization: Cast -7 (11->4), Concat -1 (2->1), Const -20 (38->18), Expand -1 (2->1), Identity -27 (28->1), Less -1 (4->3), Placeholder -1 (10->9), Reshape +1 (0->1), Squeeze -1 (2->1), Transpose -1 (1->0), Unsqueeze -4 (4->0)\n",
            "2024-09-25 15:21:34,431 - INFO - \n",
            "2024-09-25 15:21:34,432 - INFO - Successfully converted TensorFlow model weather_model to ONNX\n",
            "2024-09-25 15:21:34,432 - INFO - Model inputs: ['input_layer_1']\n",
            "2024-09-25 15:21:34,433 - INFO - Model outputs: ['output_0']\n",
            "2024-09-25 15:21:34,433 - INFO - ONNX model is saved at model.onnx\n"
          ]
        }
      ]
    },
    {
      "cell_type": "code",
      "source": [
        "import onnx\n",
        "\n",
        "model = onnx.load('/content/model.onnx')\n",
        "\n",
        "print(onnx.helper.printable_graph(model.graph))"
      ],
      "metadata": {
        "colab": {
          "base_uri": "https://localhost:8080/"
        },
        "id": "9yCE0viNxekv",
        "outputId": "05c19623-0fd5-4167-dac5-3d4895dfd2ba"
      },
      "execution_count": 32,
      "outputs": [
        {
          "output_type": "stream",
          "name": "stdout",
          "text": [
            "graph tf2onnx (\n",
            "  %input_layer_1[FLOAT, unk__249x1x3]\n",
            ") initializers (\n",
            "  %new_shape__55[INT64, 3]\n",
            "  %const_starts__43[INT64, 1]\n",
            "  %const_fold_opt__68[INT32, 1]\n",
            "  %const_fold_opt__67[FLOAT, scalar]\n",
            "  %const_fold_opt__130[FLOAT, scalar]\n",
            "  %const_ends__44[INT64, 1]\n",
            "  %const_ends__26[INT64, 1]\n",
            "  %const_axes__47[INT64, 1]\n",
            "  %StatefulPartitionedCall/sequential_1_1/lstm_1_1/while/loop_counter:0[INT32, scalar]\n",
            "  %StatefulPartitionedCall/sequential_1_1/lstm_1_1/Max:0[INT64, scalar]\n",
            "  %StatefulPartitionedCall/sequential_1_1/dense_1_1/Cast/ReadVariableOp:0[FLOAT, 50x1]\n",
            "  %StatefulPartitionedCall/sequential_1_1/dense_1_1/Add/ReadVariableOp:0[FLOAT, 1]\n",
            "  %Func/StatefulPartitionedCall/input/_3:0[FLOAT, 200]\n",
            "  %Func/StatefulPartitionedCall/input/_2:0[FLOAT, 50x200]\n",
            "  %Func/StatefulPartitionedCall/input/_1:0[FLOAT, 3x200]\n",
            ") {\n",
            "  %__inference_sequential_1_1_lstm_1_1_while_cond_14665_frozen_355_sequential_1_1/lstm_1_1/while/Less:0 = Less(%const_fold_opt__130, %const_fold_opt__67)\n",
            "  %__inference_sequential_1_1_lstm_1_1_while_cond_14665_frozen_355_sequential_1_1/lstm_1_1/while/LogicalAnd:0 = And(%__inference_sequential_1_1_lstm_1_1_while_cond_14665_frozen_355_sequential_1_1/lstm_1_1/while/Less:0, %__inference_sequential_1_1_lstm_1_1_while_cond_14665_frozen_355_sequential_1_1/lstm_1_1/while/Less:0)\n",
            "  %StatefulPartitionedCall/sequential_1_1/lstm_1_1/transpose:0 = Reshape(%input_layer_1, %new_shape__55)\n",
            "  %StatefulPartitionedCall/sequential_1_1/lstm_1_1/Shape:0 = Shape(%input_layer_1)\n",
            "  %StatefulPartitionedCall/sequential_1_1/lstm_1_1/Shape__24:0 = Cast[to = 6](%StatefulPartitionedCall/sequential_1_1/lstm_1_1/Shape:0)\n",
            "  %StatefulPartitionedCall/sequential_1_1/lstm_1_1/strided_slice:0 = Slice(%StatefulPartitionedCall/sequential_1_1/lstm_1_1/Shape__24:0, %const_axes__47, %const_ends__26, %const_axes__47)\n",
            "  %StatefulPartitionedCall/sequential_1_1/lstm_1_1/zeros/packed_Concat__40:0 = Concat[axis = 0](%StatefulPartitionedCall/sequential_1_1/lstm_1_1/strided_slice:0, %const_fold_opt__68)\n",
            "  %StatefulPartitionedCall/sequential_1_1/lstm_1_1/zeros_1__35:0 = Cast[to = 7](%StatefulPartitionedCall/sequential_1_1/lstm_1_1/zeros/packed_Concat__40:0)\n",
            "  %StatefulPartitionedCall/sequential_1_1/lstm_1_1/zeros_1:0 = Expand(%const_fold_opt__130, %StatefulPartitionedCall/sequential_1_1/lstm_1_1/zeros_1__35:0)\n",
            "  %StatefulPartitionedCall/sequential_1_1/lstm_1_1/while_loop:0, %StatefulPartitionedCall/sequential_1_1/lstm_1_1/while_loop:1, %StatefulPartitionedCall/sequential_1_1/lstm_1_1/while_loop:2, %StatefulPartitionedCall/sequential_1_1/lstm_1_1/while_loop:3, %StatefulPartitionedCall/sequential_1_1/lstm_1_1/while_loop:4, %StatefulPartitionedCall/sequential_1_1/lstm_1_1/while_loop:5, %StatefulPartitionedCall/sequential_1_1/lstm_1_1/while_loop:6 = Loop[body = <graph __inference_sequential_1_1_lstm_1_1_while_body_14666_frozen_356>](%StatefulPartitionedCall/sequential_1_1/lstm_1_1/Max:0, %__inference_sequential_1_1_lstm_1_1_while_cond_14665_frozen_355_sequential_1_1/lstm_1_1/while/LogicalAnd:0, %StatefulPartitionedCall/sequential_1_1/lstm_1_1/while/loop_counter:0, %StatefulPartitionedCall/sequential_1_1/lstm_1_1/zeros_1:0, %StatefulPartitionedCall/sequential_1_1/lstm_1_1/zeros_1:0, %Func/StatefulPartitionedCall/input/_1:0, %Func/StatefulPartitionedCall/input/_2:0, %Func/StatefulPartitionedCall/input/_3:0)\n",
            "  %StatefulPartitionedCall/sequential_1_1/lstm_1_1/strided_slice_3:0 = Slice(%StatefulPartitionedCall/sequential_1_1/lstm_1_1/while_loop:6, %const_starts__43, %const_ends__44, %const_axes__47)\n",
            "  %StatefulPartitionedCall/sequential_1_1/lstm_1_1/strided_slice_3__46:0 = Squeeze(%StatefulPartitionedCall/sequential_1_1/lstm_1_1/strided_slice_3:0, %const_axes__47)\n",
            "  %StatefulPartitionedCall/sequential_1_1/dense_1_1/MatMul:0 = MatMul(%StatefulPartitionedCall/sequential_1_1/lstm_1_1/strided_slice_3__46:0, %StatefulPartitionedCall/sequential_1_1/dense_1_1/Cast/ReadVariableOp:0)\n",
            "  %output_0 = Add(%StatefulPartitionedCall/sequential_1_1/dense_1_1/MatMul:0, %StatefulPartitionedCall/sequential_1_1/dense_1_1/Add/ReadVariableOp:0)\n",
            "  return %output_0\n",
            "}\n",
            "\n",
            "graph __inference_sequential_1_1_lstm_1_1_while_body_14666_frozen_356 (\n",
            "  %sequential_1_1_lstm_1_1_while_sequential_1_1_lstm_1_1_while_loop_counter:0[INT64, scalar]\n",
            "  %cond__42:0[BOOL, scalar]\n",
            "  %sequential_1_1_lstm_1_1_while_placeholder:0[INT32, scalar]\n",
            "  %sequential_1_1_lstm_1_1_while_placeholder_2:0[FLOAT, unk__244x50]\n",
            "  %sequential_1_1_lstm_1_1_while_placeholder_3:0[FLOAT, unk__245x50]\n",
            "  %sequential_1_1_lstm_1_1_while_lstm_cell_1_cast_readvariableop_resource_0:0[FLOAT, 3x200]\n",
            "  %sequential_1_1_lstm_1_1_while_lstm_cell_1_cast_1_readvariableop_resource_0:0[FLOAT, 50x200]\n",
            "  %sequential_1_1_lstm_1_1_while_lstm_cell_1_add_1_readvariableop_resource_0:0[FLOAT, 200]\n",
            ") initializers (\n",
            "  %sequential_1_1/lstm_1_1/while/add/y:0[INT32, scalar]\n",
            "  %const_fold_opt__69[FLOAT, scalar]\n",
            "  %const_fold_opt__133[FLOAT, scalar]\n",
            ") {\n",
            "  %sequential_1_1/lstm_1_1/while/lstm_cell_1/MatMul_1:0 = MatMul(%sequential_1_1_lstm_1_1_while_placeholder_2:0, %sequential_1_1_lstm_1_1_while_lstm_cell_1_cast_1_readvariableop_resource_0:0)\n",
            "  %sequential_1_1/lstm_1_1/while/Identity_2:0 = Add(%sequential_1_1_lstm_1_1_while_placeholder:0, %sequential_1_1/lstm_1_1/while/add/y:0)\n",
            "  %sequential_1_1/lstm_1_1/while/TensorArrayV2Read/TensorListGetItem:0 = Gather(%StatefulPartitionedCall/sequential_1_1/lstm_1_1/transpose:0, %sequential_1_1_lstm_1_1_while_placeholder:0)\n",
            "  %sequential_1_1/lstm_1_1/while/lstm_cell_1/MatMul:0 = MatMul(%sequential_1_1/lstm_1_1/while/TensorArrayV2Read/TensorListGetItem:0, %sequential_1_1_lstm_1_1_while_lstm_cell_1_cast_readvariableop_resource_0:0)\n",
            "  %sequential_1_1/lstm_1_1/while/lstm_cell_1/add:0 = Add(%sequential_1_1/lstm_1_1/while/lstm_cell_1/MatMul:0, %sequential_1_1/lstm_1_1/while/lstm_cell_1/MatMul_1:0)\n",
            "  %sequential_1_1/lstm_1_1/while/lstm_cell_1/add_1:0 = Add(%sequential_1_1/lstm_1_1/while/lstm_cell_1/add:0, %sequential_1_1_lstm_1_1_while_lstm_cell_1_add_1_readvariableop_resource_0:0)\n",
            "  %sequential_1_1/lstm_1_1/while/lstm_cell_1/split:0, %sequential_1_1/lstm_1_1/while/lstm_cell_1/split:1, %sequential_1_1/lstm_1_1/while/lstm_cell_1/split:2, %sequential_1_1/lstm_1_1/while/lstm_cell_1/split:3 = Split[axis = 1](%sequential_1_1/lstm_1_1/while/lstm_cell_1/add_1:0)\n",
            "  %sequential_1_1/lstm_1_1/while/lstm_cell_1/Sigmoid_2:0 = Sigmoid(%sequential_1_1/lstm_1_1/while/lstm_cell_1/split:3)\n",
            "  %sequential_1_1/lstm_1_1/while/lstm_cell_1/Sigmoid_1:0 = Sigmoid(%sequential_1_1/lstm_1_1/while/lstm_cell_1/split:1)\n",
            "  %sequential_1_1/lstm_1_1/while/lstm_cell_1/mul:0 = Mul(%sequential_1_1/lstm_1_1/while/lstm_cell_1/Sigmoid_1:0, %sequential_1_1_lstm_1_1_while_placeholder_3:0)\n",
            "  %sequential_1_1/lstm_1_1/while/lstm_cell_1/Sigmoid:0 = Sigmoid(%sequential_1_1/lstm_1_1/while/lstm_cell_1/split:0)\n",
            "  %sequential_1_1/lstm_1_1/while/lstm_cell_1/Relu:0 = Relu(%sequential_1_1/lstm_1_1/while/lstm_cell_1/split:2)\n",
            "  %sequential_1_1/lstm_1_1/while/lstm_cell_1/mul_1:0 = Mul(%sequential_1_1/lstm_1_1/while/lstm_cell_1/Sigmoid:0, %sequential_1_1/lstm_1_1/while/lstm_cell_1/Relu:0)\n",
            "  %sequential_1_1/lstm_1_1/while/Identity_5:0 = Add(%sequential_1_1/lstm_1_1/while/lstm_cell_1/mul:0, %sequential_1_1/lstm_1_1/while/lstm_cell_1/mul_1:0)\n",
            "  %sequential_1_1/lstm_1_1/while/lstm_cell_1/Relu_1:0 = Relu(%sequential_1_1/lstm_1_1/while/Identity_5:0)\n",
            "  %sequential_1_1/lstm_1_1/while/TensorArrayV2Write/TensorListSetItem:0 = Mul(%sequential_1_1/lstm_1_1/while/lstm_cell_1/Sigmoid_2:0, %sequential_1_1/lstm_1_1/while/lstm_cell_1/Relu_1:0)\n",
            "  %sequential_1_1/lstm_1_1/while/Identity_4:0 = Identity(%sequential_1_1/lstm_1_1/while/TensorArrayV2Write/TensorListSetItem:0)\n",
            "  %cond___sequential_1_1/lstm_1_1/while/Less__22:0 = Cast[to = 1](%sequential_1_1/lstm_1_1/while/Identity_2:0)\n",
            "  %cond___sequential_1_1/lstm_1_1/while/Less_1__20:0 = Cast[to = 1](%sequential_1_1_lstm_1_1_while_sequential_1_1_lstm_1_1_while_loop_counter:0)\n",
            "  %cond___sequential_1_1/lstm_1_1/while/Less_1:0 = Less(%cond___sequential_1_1/lstm_1_1/while/Less_1__20:0, %const_fold_opt__133)\n",
            "  %cond___sequential_1_1/lstm_1_1/while/Less:0 = Less(%cond___sequential_1_1/lstm_1_1/while/Less__22:0, %const_fold_opt__69)\n",
            "  %cond___sequential_1_1/lstm_1_1/while/LogicalAnd_graph_outputs_Identity__16:0 = And(%cond___sequential_1_1/lstm_1_1/while/Less_1:0, %cond___sequential_1_1/lstm_1_1/while/Less:0)\n",
            "  return %cond___sequential_1_1/lstm_1_1/while/LogicalAnd_graph_outputs_Identity__16:0, %sequential_1_1/lstm_1_1/while/Identity_2:0, %sequential_1_1/lstm_1_1/while/Identity_4:0, %sequential_1_1/lstm_1_1/while/Identity_5:0, %sequential_1_1_lstm_1_1_while_lstm_cell_1_cast_readvariableop_resource_0:0, %sequential_1_1_lstm_1_1_while_lstm_cell_1_cast_1_readvariableop_resource_0:0, %sequential_1_1_lstm_1_1_while_lstm_cell_1_add_1_readvariableop_resource_0:0, %sequential_1_1/lstm_1_1/while/TensorArrayV2Write/TensorListSetItem:0\n",
            "}\n"
          ]
        }
      ]
    },
    {
      "cell_type": "code",
      "source": [],
      "metadata": {
        "id": "WhpZJqCzxyPJ"
      },
      "execution_count": null,
      "outputs": []
    }
  ]
}